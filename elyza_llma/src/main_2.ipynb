{
 "cells": [
  {
   "cell_type": "code",
   "execution_count": 2,
   "metadata": {},
   "outputs": [],
   "source": [
    "import torch\n",
    "from transformers import AutoModelForCausalLM, AutoTokenizer"
   ]
  },
  {
   "cell_type": "code",
   "execution_count": 3,
   "metadata": {},
   "outputs": [],
   "source": [
    "B_INST, E_INST = \"[INST]\", \"[/INST]\"\n",
    "B_SYS, E_SYS = \"<<SYS>>\\n\", \"\\n<</SYS>>\\n\\n\"\n",
    "DEFAULT_SYSTEM_PROMPT = \"あなたは誠実で優秀な日本人のアシスタントです。\""
   ]
  },
  {
   "cell_type": "code",
   "execution_count": 4,
   "metadata": {},
   "outputs": [
    {
     "name": "stderr",
     "output_type": "stream",
     "text": [
      "Loading checkpoint shards: 100%|██████████| 2/2 [00:00<00:00,  4.25it/s]\n"
     ]
    }
   ],
   "source": [
    "model_name = \"elyza/ELYZA-japanese-Llama-2-7b-instruct\"\n",
    "#model_name = \"elyza/ELYZA-japanese-Llama-2-7b\"\n",
    "tokenizer = AutoTokenizer.from_pretrained(model_name)\n",
    "model = AutoModelForCausalLM.from_pretrained(model_name, torch_dtype=\"auto\")"
   ]
  },
  {
   "cell_type": "code",
   "execution_count": 5,
   "metadata": {},
   "outputs": [
    {
     "name": "stdout",
     "output_type": "stream",
     "text": [
      "cuda\n"
     ]
    }
   ],
   "source": [
    "if torch.cuda.is_available():\n",
    "    model = model.to(\"cuda\")\n",
    "    print(\"cuda\", flush=True)"
   ]
  },
  {
   "cell_type": "code",
   "execution_count": 6,
   "metadata": {},
   "outputs": [],
   "source": [
    "def make_prompt(text: str) -> str:\n",
    "    return \"{bos_token}{b_inst} {system}{prompt} {e_inst} \".format(\n",
    "        bos_token=tokenizer.bos_token,\n",
    "        b_inst=B_INST,\n",
    "        system=f\"{B_SYS}{DEFAULT_SYSTEM_PROMPT}{E_SYS}\",\n",
    "        prompt=text,\n",
    "        e_inst=E_INST,\n",
    "    )"
   ]
  },
  {
   "cell_type": "code",
   "execution_count": 7,
   "metadata": {},
   "outputs": [],
   "source": [
    "text = (\n",
    "    \"以下の文を要約しなさい。\"\n",
    "    \"要約文だけを出力しなさい。余計な文章はつけないでください。\"\n",
    "    \"「クマが侵入し従業員が襲われた秋田市土崎港のスーパーで、クマを運び出した後に売り場を確認したところ精肉や総菜コーナーが荒らされていましたがパックに詰められた肉は食べられていないことが新たに分かりました。秋田市の農地森林整備課などによりますと、クマが侵入した秋田市土崎港のスーパーで２日ドローンを使って店内を調査しました。売り場の入口近くにあった花びんが割れていたほか売り場の精肉や総菜コーナーの商品が荒らされていたということです。一方で、パックに詰められた精肉を食べた形跡は確認されなかったということです。店に侵入したメスのクマは２日に市などが箱わなで捕獲しています。秋田市は店が設置した防犯カメラなどから、クマの侵入経路などの確認を続けています。」\"\n",
    ")"
   ]
  },
  {
   "cell_type": "code",
   "execution_count": 8,
   "metadata": {},
   "outputs": [
    {
     "name": "stdout",
     "output_type": "stream",
     "text": [
      "以下の文を要約しなさい。要約文だけを出力しなさい。余計な文章はつけないでください。「クマが侵入し従業員が襲われた秋田市土崎港のスーパーで、クマを運び出した後に売り場を確認したところ精肉や総菜コーナーが荒らされていましたがパックに詰められた肉は食べられていないことが新たに分かりました。秋田市の農地森林整備課などによりますと、クマが侵入した秋田市土崎港のスーパーで２日ドローンを使って店内を調査しました。売り場の入口近くにあった花びんが割れていたほか売り場の精肉や総菜コーナーの商品が荒らされていたということです。一方で、パックに詰められた精肉を食べた形跡は確認されなかったということです。店に侵入したメスのクマは２日に市などが箱わなで捕獲しています。秋田市は店が設置した防犯カメラなどから、クマの侵入経路などの確認を続けています。」\n"
     ]
    }
   ],
   "source": [
    "print(text)"
   ]
  },
  {
   "cell_type": "code",
   "execution_count": 9,
   "metadata": {},
   "outputs": [],
   "source": [
    "prompt = make_prompt(text)"
   ]
  },
  {
   "cell_type": "code",
   "execution_count": 10,
   "metadata": {},
   "outputs": [
    {
     "name": "stderr",
     "output_type": "stream",
     "text": [
      "The attention mask is not set and cannot be inferred from input because pad token is same as eos token. As a consequence, you may observe unexpected behavior. Please pass your input's `attention_mask` to obtain reliable results.\n"
     ]
    }
   ],
   "source": [
    "with torch.no_grad():\n",
    "    token_ids = tokenizer.encode(prompt, add_special_tokens=False, return_tensors=\"pt\")\n",
    "\n",
    "    output_ids = model.generate(\n",
    "        token_ids.to(model.device),\n",
    "        max_new_tokens=2000,\n",
    "        pad_token_id=tokenizer.pad_token_id,\n",
    "        eos_token_id=tokenizer.eos_token_id,\n",
    "    )"
   ]
  },
  {
   "cell_type": "code",
   "execution_count": 11,
   "metadata": {},
   "outputs": [
    {
     "name": "stdout",
     "output_type": "stream",
     "text": [
      "クマが侵入し従業員が襲われた秋田市のスーパーで、精肉や総菜コーナーが荒らされたが、パックに詰められた肉は食べられていないことが分かりました。\n"
     ]
    }
   ],
   "source": [
    "output = tokenizer.decode(output_ids.tolist()[0][token_ids.size(1) :], skip_special_tokens=True)\n",
    "print(output, flush=True)"
   ]
  },
  {
   "cell_type": "code",
   "execution_count": null,
   "metadata": {},
   "outputs": [],
   "source": []
  },
  {
   "cell_type": "code",
   "execution_count": null,
   "metadata": {},
   "outputs": [],
   "source": []
  }
 ],
 "metadata": {
  "kernelspec": {
   "display_name": "elyza_llma",
   "language": "python",
   "name": "python3"
  },
  "language_info": {
   "codemirror_mode": {
    "name": "ipython",
    "version": 3
   },
   "file_extension": ".py",
   "mimetype": "text/x-python",
   "name": "python",
   "nbconvert_exporter": "python",
   "pygments_lexer": "ipython3",
   "version": "3.11.9"
  }
 },
 "nbformat": 4,
 "nbformat_minor": 2
}
